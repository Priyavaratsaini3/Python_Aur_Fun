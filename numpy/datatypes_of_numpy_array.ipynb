{
 "cells": [
  {
   "cell_type": "markdown",
   "metadata": {},
   "source": [
    "# Data Type"
   ]
  },
  {
   "cell_type": "code",
   "execution_count": 4,
   "metadata": {},
   "outputs": [
    {
     "name": "stdout",
     "output_type": "stream",
     "text": [
      "Data Type :  int64\n"
     ]
    }
   ],
   "source": [
    "import numpy as np\n",
    "var = np.array([1,2,3,4,5,6])\n",
    "print(\"Data Type : \", var.dtype)"
   ]
  },
  {
   "cell_type": "code",
   "execution_count": 3,
   "metadata": {},
   "outputs": [
    {
     "name": "stdout",
     "output_type": "stream",
     "text": [
      "Data Type :  float64\n"
     ]
    }
   ],
   "source": [
    "var = np.array([1.04, 3.45, 3.44565])\n",
    "print(\"Data Type : \", var.dtype)"
   ]
  },
  {
   "cell_type": "code",
   "execution_count": 6,
   "metadata": {},
   "outputs": [
    {
     "name": "stdout",
     "output_type": "stream",
     "text": [
      "Data Type :  <U1\n"
     ]
    }
   ],
   "source": [
    "var = np.array([\"A\", \"C\", \"W\"])\n",
    "print(\"Data Type : \", var.dtype)"
   ]
  },
  {
   "cell_type": "code",
   "execution_count": 7,
   "metadata": {},
   "outputs": [
    {
     "name": "stdout",
     "output_type": "stream",
     "text": [
      "Data Type :  <U21\n"
     ]
    }
   ],
   "source": [
    "var = np.array([\"A\", \"C\", \"W\", 2, 3, 4 ,4 ])\n",
    "print(\"Data Type : \", var.dtype)"
   ]
  },
  {
   "cell_type": "code",
   "execution_count": 2,
   "metadata": {},
   "outputs": [
    {
     "name": "stdout",
     "output_type": "stream",
     "text": [
      "Data Type:  int8\n",
      "[1 2 3 4]\n"
     ]
    }
   ],
   "source": [
    "import numpy as np\n",
    "x = np.array([1,2,3,4],dtype= np.int8)\n",
    "print(\"Data Type: \",x.dtype)\n",
    "print(x)"
   ]
  },
  {
   "cell_type": "code",
   "execution_count": 3,
   "metadata": {},
   "outputs": [
    {
     "name": "stdout",
     "output_type": "stream",
     "text": [
      "Data Type:  float32\n",
      "[1. 2. 3. 4.]\n"
     ]
    }
   ],
   "source": [
    "x1 = np.array([1,2,3,4],dtype= \"f\")\n",
    "\n",
    "print(\"Data Type: \",x1.dtype)\n",
    "print(x1)"
   ]
  },
  {
   "cell_type": "code",
   "execution_count": 4,
   "metadata": {},
   "outputs": [
    {
     "name": "stdout",
     "output_type": "stream",
     "text": [
      "Data Type:  int64\n",
      "Data Type:  float32\n",
      "[1 2 3 4]\n",
      "[1. 2. 3. 4.]\n"
     ]
    }
   ],
   "source": [
    "x2 = np.array([1,2,3,4])\n",
    "new = np.float32(x2)\n",
    "print(\"Data Type: \",x2.dtype)\n",
    "print(\"Data Type: \",new.dtype)\n",
    "\n",
    "print(x2)\n",
    "print(new)"
   ]
  },
  {
   "cell_type": "code",
   "execution_count": 5,
   "metadata": {},
   "outputs": [
    {
     "name": "stdout",
     "output_type": "stream",
     "text": [
      "Data Type:  int64\n",
      "Data Type:  float32\n",
      "Data Type:  int64\n",
      "[1 2 3 4]\n",
      "[1. 2. 3. 4.]\n",
      "[1 2 3 4]\n"
     ]
    }
   ],
   "source": [
    "x2 = np.array([1,2,3,4])\n",
    "new = np.float32(x2)\n",
    "new_one = np.int_(new)\n",
    "\n",
    "print(\"Data Type: \",x2.dtype)\n",
    "print(\"Data Type: \",new.dtype)\n",
    "print(\"Data Type: \",new_one.dtype)\n",
    "\n",
    "print(x2)\n",
    "print(new)\n",
    "print(new_one)\n"
   ]
  },
  {
   "cell_type": "code",
   "execution_count": 7,
   "metadata": {},
   "outputs": [
    {
     "name": "stdout",
     "output_type": "stream",
     "text": [
      "[1 2 3 4]\n",
      "[1. 2. 3. 4.]\n"
     ]
    }
   ],
   "source": [
    "x3 = np.array([1,2,3,4])\n",
    "new_1 = x3.astype(float)\n",
    " \n",
    "print(x3)\n",
    "print(new_1)"
   ]
  },
  {
   "cell_type": "code",
   "execution_count": null,
   "metadata": {},
   "outputs": [],
   "source": []
  }
 ],
 "metadata": {
  "kernelspec": {
   "display_name": ".venv",
   "language": "python",
   "name": "python3"
  },
  "language_info": {
   "codemirror_mode": {
    "name": "ipython",
    "version": 3
   },
   "file_extension": ".py",
   "mimetype": "text/x-python",
   "name": "python",
   "nbconvert_exporter": "python",
   "pygments_lexer": "ipython3",
   "version": "3.12.6"
  }
 },
 "nbformat": 4,
 "nbformat_minor": 2
}
